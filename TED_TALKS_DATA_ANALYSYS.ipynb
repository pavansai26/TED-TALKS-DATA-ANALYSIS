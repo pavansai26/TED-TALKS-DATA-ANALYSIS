{
  "nbformat": 4,
  "nbformat_minor": 0,
  "metadata": {
    "colab": {
      "name": "TED TALKS DATA ANALYSYS.ipynb",
      "provenance": [],
      "authorship_tag": "ABX9TyMMeznQuMeahvUGJ7rodh6F",
      "include_colab_link": true
    },
    "kernelspec": {
      "name": "python3",
      "display_name": "Python 3"
    }
  },
  "cells": [
    {
      "cell_type": "markdown",
      "metadata": {
        "id": "view-in-github",
        "colab_type": "text"
      },
      "source": [
        "<a href=\"https://colab.research.google.com/github/pavansai26/TED-TALKS-DATA-ANALYSIS/blob/main/TED_TALKS_DATA_ANALYSYS.ipynb\" target=\"_parent\"><img src=\"https://colab.research.google.com/assets/colab-badge.svg\" alt=\"Open In Colab\"/></a>"
      ]
    },
    {
      "cell_type": "markdown",
      "metadata": {
        "id": "ZDU7Z12A6hoI"
      },
      "source": [
        "# **problem statement**"
      ]
    },
    {
      "cell_type": "markdown",
      "metadata": {
        "id": "EG0lXuW96VU4"
      },
      "source": [
        "# Analysing the Ted talk data"
      ]
    },
    {
      "cell_type": "markdown",
      "metadata": {
        "id": "yeNeAJ0B61GP"
      },
      "source": [
        "# **history of TED**"
      ]
    },
    {
      "cell_type": "markdown",
      "metadata": {
        "id": "OyoUC3Fm6p09"
      },
      "source": [
        "# Founded in 1984 by Richard Saulman as a non profit organisation that aimed at bringing experts from the fields of Technology, Entertainment and Design together, TED Conferences have gone on to become the Mecca of ideas from virtually all walks of life."
      ]
    },
    {
      "cell_type": "markdown",
      "metadata": {
        "id": "Rty7npSD6_1T"
      },
      "source": [
        "# As of 2015, TED and its sister TEDx chapters have published more than 2000 talks for free consumption by the masses and its speaker list boasts of the likes of Al Gore, Jimmy Wales, Shahrukh Khan and Bill Gates."
      ]
    },
    {
      "cell_type": "markdown",
      "metadata": {
        "id": "avdoM8af7FRP"
      },
      "source": [
        "# Ted, which operates under the slogan 'Ideas worth spreading' has managed to achieve an incredible feat of bringing world renowned experts from various walks of life and study and giving them a platform to distill years of their work and research into talks of 18 minutes in length."
      ]
    },
    {
      "cell_type": "markdown",
      "metadata": {
        "id": "6FLSTfTj7hQs"
      },
      "source": [
        "# What's even more incredible is that their invaluable insights is available on the Internet for free.\n",
        "\n"
      ]
    },
    {
      "cell_type": "markdown",
      "metadata": {
        "id": "JoMiy_m87u6V"
      },
      "source": [
        "# Since the time we have begun watching TED Talks, they have never ceased to amaze us. We have learned an incredible amount, about fields we were completely alien to, in the form of poignant stories, breathtaking visuals and subtle humor."
      ]
    },
    {
      "cell_type": "markdown",
      "metadata": {
        "id": "bbiGoHAq72P3"
      },
      "source": [
        "# So in this notebook, we are attempting at finding insights about the world of TED, its speakers and its viewers and try to answer a few questions."
      ]
    },
    {
      "cell_type": "markdown",
      "metadata": {
        "id": "YU-A8HxZ8AwM"
      },
      "source": [
        "# **Attribute Description**"
      ]
    },
    {
      "cell_type": "markdown",
      "metadata": {
        "id": "sqocg2Nt8Gmm"
      },
      "source": [
        "# name: The official name of the TED Talk. Includes the title and the speaker.\n",
        "\n",
        "#title: The title of the talk\n",
        "\n",
        "#description: A blurb of what the talk is about.\n",
        "\n",
        "#main_speaker: The first named speaker of the talk.\n",
        "\n",
        "#speaker_occupation: The occupation of the main speaker.\n",
        "\n",
        "#num_speaker: The number of speakers in the talk.\n",
        "\n",
        "#duration: The duration of the talk in seconds.\n",
        "\n",
        "#event: The TED/TEDx event where the talk took place.\n",
        "\n",
        "#film_date: The Unix timestamp of the filming.\n",
        "\n",
        "#published_date: The Unix timestamp for the publication of the talk on TED.com\n",
        "\n",
        "#comments: The number of first level comments made on the talk.\n",
        "\n",
        "#tags: The themes associated with the talk.\n",
        "\n",
        "#languages: The number of languages in which the talk is available.\n",
        "\n",
        "#ratings: A stringified dictionary of the various ratings given to the talk (inspiring, fascinating, jaw dropping, etc.)\n",
        "\n",
        "#related_talks: A list of dictionaries of recommended talks to watch next.\n",
        "\n",
        "#url: The URL of the talk.\n",
        "\n",
        "#views: The number of views on the talk."
      ]
    },
    {
      "cell_type": "markdown",
      "metadata": {
        "id": "YkNo8lNA2qNe"
      },
      "source": [
        "# **importing the necessary libraries**"
      ]
    },
    {
      "cell_type": "code",
      "metadata": {
        "id": "fa5nS1II2imw"
      },
      "source": [
        "import numpy as np \n",
        "import pandas as pd\n",
        "import matplotlib.pyplot as plt\n",
        "import seaborn as sns"
      ],
      "execution_count": 1,
      "outputs": []
    },
    {
      "cell_type": "markdown",
      "metadata": {
        "id": "wy1fXgk02yah"
      },
      "source": [
        "# **Plotting style**"
      ]
    },
    {
      "cell_type": "code",
      "metadata": {
        "id": "92AT-IDb2voh"
      },
      "source": [
        "sns.set_style(\"whitegrid\")\n",
        "sns.set_palette(\"muted\")\n",
        "plt.style.use(\"fivethirtyeight\")"
      ],
      "execution_count": 2,
      "outputs": []
    },
    {
      "cell_type": "markdown",
      "metadata": {
        "id": "QcNsPr6q26nY"
      },
      "source": [
        "# **ignoring the warnings**"
      ]
    },
    {
      "cell_type": "code",
      "metadata": {
        "id": "5Sdrwfd823as"
      },
      "source": [
        "import warnings\n",
        "warnings.filterwarnings('ignore',category = DeprecationWarning)\n",
        "warnings.filterwarnings('ignore',category = UserWarning)\n",
        "warnings.filterwarnings('ignore',category = RuntimeWarning)\n",
        "warnings.filterwarnings('ignore',category = FutureWarning)"
      ],
      "execution_count": 3,
      "outputs": []
    },
    {
      "cell_type": "markdown",
      "metadata": {
        "id": "sq2DO90_3FDF"
      },
      "source": [
        "# **setting the no.of rows and columns**"
      ]
    },
    {
      "cell_type": "code",
      "metadata": {
        "id": "ShbfVAAi3Bzl"
      },
      "source": [
        "pd.set_option('display.max_rows',100000)\n",
        "pd.set_option('display.max_columns',1000)"
      ],
      "execution_count": 4,
      "outputs": []
    },
    {
      "cell_type": "markdown",
      "metadata": {
        "id": "OFIm_kEw3O03"
      },
      "source": [
        "# **accesing the drive**"
      ]
    },
    {
      "cell_type": "code",
      "metadata": {
        "colab": {
          "base_uri": "https://localhost:8080/"
        },
        "id": "s_It35J53LW6",
        "outputId": "f12b2c1b-0fab-47ca-c34d-6abd342d6ac5"
      },
      "source": [
        "from google.colab import drive\n",
        "drive.mount('/gdrive')"
      ],
      "execution_count": 5,
      "outputs": [
        {
          "output_type": "stream",
          "text": [
            "Mounted at /gdrive\n"
          ],
          "name": "stdout"
        }
      ]
    },
    {
      "cell_type": "markdown",
      "metadata": {
        "id": "hTroRHdi4FOK"
      },
      "source": [
        "# **Reading the Data**"
      ]
    },
    {
      "cell_type": "code",
      "metadata": {
        "id": "djkOD8SE3c0d"
      },
      "source": [
        "df = pd.read_csv('/gdrive/My Drive/Colab Notebooks/TED analysis.csv')"
      ],
      "execution_count": 37,
      "outputs": []
    },
    {
      "cell_type": "markdown",
      "metadata": {
        "id": "S6G8jPAn4Pmb"
      },
      "source": [
        "# **printing the data only top 5**"
      ]
    },
    {
      "cell_type": "code",
      "metadata": {
        "colab": {
          "base_uri": "https://localhost:8080/",
          "height": 598
        },
        "id": "RzzViGo74PIM",
        "outputId": "b4ecb219-eddd-479e-9702-9dec148f6570"
      },
      "source": [
        "df.head()"
      ],
      "execution_count": 38,
      "outputs": [
        {
          "output_type": "execute_result",
          "data": {
            "text/html": [
              "<div>\n",
              "<style scoped>\n",
              "    .dataframe tbody tr th:only-of-type {\n",
              "        vertical-align: middle;\n",
              "    }\n",
              "\n",
              "    .dataframe tbody tr th {\n",
              "        vertical-align: top;\n",
              "    }\n",
              "\n",
              "    .dataframe thead th {\n",
              "        text-align: right;\n",
              "    }\n",
              "</style>\n",
              "<table border=\"1\" class=\"dataframe\">\n",
              "  <thead>\n",
              "    <tr style=\"text-align: right;\">\n",
              "      <th></th>\n",
              "      <th>name</th>\n",
              "      <th>title</th>\n",
              "      <th>description</th>\n",
              "      <th>main_speaker</th>\n",
              "      <th>speaker_occupation</th>\n",
              "      <th>num_speaker</th>\n",
              "      <th>duration</th>\n",
              "      <th>event</th>\n",
              "      <th>film_date</th>\n",
              "      <th>published_date</th>\n",
              "      <th>comments</th>\n",
              "      <th>tags</th>\n",
              "      <th>languages</th>\n",
              "      <th>ratings</th>\n",
              "      <th>related_talks</th>\n",
              "      <th>url</th>\n",
              "      <th>views</th>\n",
              "    </tr>\n",
              "  </thead>\n",
              "  <tbody>\n",
              "    <tr>\n",
              "      <th>0</th>\n",
              "      <td>Ken Robinson: Do schools kill creativity?</td>\n",
              "      <td>Do schools kill creativity?</td>\n",
              "      <td>Sir Ken Robinson makes an entertaining and pro...</td>\n",
              "      <td>Ken Robinson</td>\n",
              "      <td>Author/educator</td>\n",
              "      <td>1</td>\n",
              "      <td>1164</td>\n",
              "      <td>TED2006</td>\n",
              "      <td>25-02-2006</td>\n",
              "      <td>27-06-2006</td>\n",
              "      <td>4553</td>\n",
              "      <td>['children', 'creativity', 'culture', 'dance',...</td>\n",
              "      <td>60</td>\n",
              "      <td>[{'id': 7, 'name': 'Funny', 'count': 19645}, {...</td>\n",
              "      <td>[{'id': 865, 'hero': 'https://pe.tedcdn.com/im...</td>\n",
              "      <td>https://www.ted.com/talks/ken_robinson_says_sc...</td>\n",
              "      <td>47227110</td>\n",
              "    </tr>\n",
              "    <tr>\n",
              "      <th>1</th>\n",
              "      <td>Al Gore: Averting the climate crisis</td>\n",
              "      <td>Averting the climate crisis</td>\n",
              "      <td>With the same humor and humanity he exuded in ...</td>\n",
              "      <td>Al Gore</td>\n",
              "      <td>Climate advocate</td>\n",
              "      <td>1</td>\n",
              "      <td>977</td>\n",
              "      <td>TED2006</td>\n",
              "      <td>25-02-2006</td>\n",
              "      <td>27-06-2006</td>\n",
              "      <td>265</td>\n",
              "      <td>['alternative energy', 'cars', 'climate change...</td>\n",
              "      <td>43</td>\n",
              "      <td>[{'id': 7, 'name': 'Funny', 'count': 544}, {'i...</td>\n",
              "      <td>[{'id': 243, 'hero': 'https://pe.tedcdn.com/im...</td>\n",
              "      <td>https://www.ted.com/talks/al_gore_on_averting_...</td>\n",
              "      <td>3200520</td>\n",
              "    </tr>\n",
              "    <tr>\n",
              "      <th>2</th>\n",
              "      <td>David Pogue: Simplicity sells</td>\n",
              "      <td>Simplicity sells</td>\n",
              "      <td>New York Times columnist David Pogue takes aim...</td>\n",
              "      <td>David Pogue</td>\n",
              "      <td>Technology columnist</td>\n",
              "      <td>1</td>\n",
              "      <td>1286</td>\n",
              "      <td>TED2006</td>\n",
              "      <td>24-02-2006</td>\n",
              "      <td>27-06-2006</td>\n",
              "      <td>124</td>\n",
              "      <td>['computers', 'entertainment', 'interface desi...</td>\n",
              "      <td>26</td>\n",
              "      <td>[{'id': 7, 'name': 'Funny', 'count': 964}, {'i...</td>\n",
              "      <td>[{'id': 1725, 'hero': 'https://pe.tedcdn.com/i...</td>\n",
              "      <td>https://www.ted.com/talks/david_pogue_says_sim...</td>\n",
              "      <td>1636292</td>\n",
              "    </tr>\n",
              "    <tr>\n",
              "      <th>3</th>\n",
              "      <td>Majora Carter: Greening the ghetto</td>\n",
              "      <td>Greening the ghetto</td>\n",
              "      <td>In an emotionally charged talk, MacArthur-winn...</td>\n",
              "      <td>Majora Carter</td>\n",
              "      <td>Activist for environmental justice</td>\n",
              "      <td>1</td>\n",
              "      <td>1116</td>\n",
              "      <td>TED2006</td>\n",
              "      <td>26-02-2006</td>\n",
              "      <td>27-06-2006</td>\n",
              "      <td>200</td>\n",
              "      <td>['MacArthur grant', 'activism', 'business', 'c...</td>\n",
              "      <td>35</td>\n",
              "      <td>[{'id': 3, 'name': 'Courageous', 'count': 760}...</td>\n",
              "      <td>[{'id': 1041, 'hero': 'https://pe.tedcdn.com/i...</td>\n",
              "      <td>https://www.ted.com/talks/majora_carter_s_tale...</td>\n",
              "      <td>1697550</td>\n",
              "    </tr>\n",
              "    <tr>\n",
              "      <th>4</th>\n",
              "      <td>Hans Rosling: The best stats you've ever seen</td>\n",
              "      <td>The best stats you've ever seen</td>\n",
              "      <td>You've never seen data presented like this. Wi...</td>\n",
              "      <td>Hans Rosling</td>\n",
              "      <td>Global health expert; data visionary</td>\n",
              "      <td>1</td>\n",
              "      <td>1190</td>\n",
              "      <td>TED2006</td>\n",
              "      <td>22-02-2006</td>\n",
              "      <td>28-06-2006</td>\n",
              "      <td>593</td>\n",
              "      <td>['Africa', 'Asia', 'Google', 'demo', 'economic...</td>\n",
              "      <td>48</td>\n",
              "      <td>[{'id': 9, 'name': 'Ingenious', 'count': 3202}...</td>\n",
              "      <td>[{'id': 2056, 'hero': 'https://pe.tedcdn.com/i...</td>\n",
              "      <td>https://www.ted.com/talks/hans_rosling_shows_t...</td>\n",
              "      <td>12005869</td>\n",
              "    </tr>\n",
              "  </tbody>\n",
              "</table>\n",
              "</div>"
            ],
            "text/plain": [
              "                                            name  \\\n",
              "0      Ken Robinson: Do schools kill creativity?   \n",
              "1           Al Gore: Averting the climate crisis   \n",
              "2                  David Pogue: Simplicity sells   \n",
              "3             Majora Carter: Greening the ghetto   \n",
              "4  Hans Rosling: The best stats you've ever seen   \n",
              "\n",
              "                             title  \\\n",
              "0      Do schools kill creativity?   \n",
              "1      Averting the climate crisis   \n",
              "2                 Simplicity sells   \n",
              "3              Greening the ghetto   \n",
              "4  The best stats you've ever seen   \n",
              "\n",
              "                                         description   main_speaker  \\\n",
              "0  Sir Ken Robinson makes an entertaining and pro...   Ken Robinson   \n",
              "1  With the same humor and humanity he exuded in ...        Al Gore   \n",
              "2  New York Times columnist David Pogue takes aim...    David Pogue   \n",
              "3  In an emotionally charged talk, MacArthur-winn...  Majora Carter   \n",
              "4  You've never seen data presented like this. Wi...   Hans Rosling   \n",
              "\n",
              "                     speaker_occupation  num_speaker  duration    event  \\\n",
              "0                       Author/educator            1      1164  TED2006   \n",
              "1                      Climate advocate            1       977  TED2006   \n",
              "2                  Technology columnist            1      1286  TED2006   \n",
              "3    Activist for environmental justice            1      1116  TED2006   \n",
              "4  Global health expert; data visionary            1      1190  TED2006   \n",
              "\n",
              "    film_date published_date  comments  \\\n",
              "0  25-02-2006     27-06-2006      4553   \n",
              "1  25-02-2006     27-06-2006       265   \n",
              "2  24-02-2006     27-06-2006       124   \n",
              "3  26-02-2006     27-06-2006       200   \n",
              "4  22-02-2006     28-06-2006       593   \n",
              "\n",
              "                                                tags  languages  \\\n",
              "0  ['children', 'creativity', 'culture', 'dance',...         60   \n",
              "1  ['alternative energy', 'cars', 'climate change...         43   \n",
              "2  ['computers', 'entertainment', 'interface desi...         26   \n",
              "3  ['MacArthur grant', 'activism', 'business', 'c...         35   \n",
              "4  ['Africa', 'Asia', 'Google', 'demo', 'economic...         48   \n",
              "\n",
              "                                             ratings  \\\n",
              "0  [{'id': 7, 'name': 'Funny', 'count': 19645}, {...   \n",
              "1  [{'id': 7, 'name': 'Funny', 'count': 544}, {'i...   \n",
              "2  [{'id': 7, 'name': 'Funny', 'count': 964}, {'i...   \n",
              "3  [{'id': 3, 'name': 'Courageous', 'count': 760}...   \n",
              "4  [{'id': 9, 'name': 'Ingenious', 'count': 3202}...   \n",
              "\n",
              "                                       related_talks  \\\n",
              "0  [{'id': 865, 'hero': 'https://pe.tedcdn.com/im...   \n",
              "1  [{'id': 243, 'hero': 'https://pe.tedcdn.com/im...   \n",
              "2  [{'id': 1725, 'hero': 'https://pe.tedcdn.com/i...   \n",
              "3  [{'id': 1041, 'hero': 'https://pe.tedcdn.com/i...   \n",
              "4  [{'id': 2056, 'hero': 'https://pe.tedcdn.com/i...   \n",
              "\n",
              "                                                 url     views  \n",
              "0  https://www.ted.com/talks/ken_robinson_says_sc...  47227110  \n",
              "1  https://www.ted.com/talks/al_gore_on_averting_...   3200520  \n",
              "2  https://www.ted.com/talks/david_pogue_says_sim...   1636292  \n",
              "3  https://www.ted.com/talks/majora_carter_s_tale...   1697550  \n",
              "4  https://www.ted.com/talks/hans_rosling_shows_t...  12005869  "
            ]
          },
          "metadata": {
            "tags": []
          },
          "execution_count": 38
        }
      ]
    },
    {
      "cell_type": "markdown",
      "metadata": {
        "id": "5QAK1ZNbBGZ-"
      },
      "source": [
        "# **Which are the top 15 most viewed talks of all time**"
      ]
    },
    {
      "cell_type": "code",
      "metadata": {
        "colab": {
          "base_uri": "https://localhost:8080/",
          "height": 514
        },
        "id": "hEvYr1Rc35EK",
        "outputId": "a74527a9-f7ae-4b7b-a293-8e091c56baee"
      },
      "source": [
        "pop_talks = df[['title', 'main_speaker', 'views', 'film_date']].sort_values('views', ascending=False)[:15]\n",
        "\n",
        "pop_talks"
      ],
      "execution_count": 8,
      "outputs": [
        {
          "output_type": "execute_result",
          "data": {
            "text/html": [
              "<div>\n",
              "<style scoped>\n",
              "    .dataframe tbody tr th:only-of-type {\n",
              "        vertical-align: middle;\n",
              "    }\n",
              "\n",
              "    .dataframe tbody tr th {\n",
              "        vertical-align: top;\n",
              "    }\n",
              "\n",
              "    .dataframe thead th {\n",
              "        text-align: right;\n",
              "    }\n",
              "</style>\n",
              "<table border=\"1\" class=\"dataframe\">\n",
              "  <thead>\n",
              "    <tr style=\"text-align: right;\">\n",
              "      <th></th>\n",
              "      <th>title</th>\n",
              "      <th>main_speaker</th>\n",
              "      <th>views</th>\n",
              "      <th>film_date</th>\n",
              "    </tr>\n",
              "  </thead>\n",
              "  <tbody>\n",
              "    <tr>\n",
              "      <th>0</th>\n",
              "      <td>Do schools kill creativity?</td>\n",
              "      <td>Ken Robinson</td>\n",
              "      <td>47227110</td>\n",
              "      <td>25-02-2006</td>\n",
              "    </tr>\n",
              "    <tr>\n",
              "      <th>1346</th>\n",
              "      <td>Your body language may shape who you are</td>\n",
              "      <td>Amy Cuddy</td>\n",
              "      <td>43155405</td>\n",
              "      <td>26-06-2012</td>\n",
              "    </tr>\n",
              "    <tr>\n",
              "      <th>677</th>\n",
              "      <td>How great leaders inspire action</td>\n",
              "      <td>Simon Sinek</td>\n",
              "      <td>34309432</td>\n",
              "      <td>17-09-2009</td>\n",
              "    </tr>\n",
              "    <tr>\n",
              "      <th>837</th>\n",
              "      <td>The power of vulnerability</td>\n",
              "      <td>Brené Brown</td>\n",
              "      <td>31168150</td>\n",
              "      <td>06-06-2010</td>\n",
              "    </tr>\n",
              "    <tr>\n",
              "      <th>452</th>\n",
              "      <td>10 things you didn't know about orgasm</td>\n",
              "      <td>Mary Roach</td>\n",
              "      <td>22270883</td>\n",
              "      <td>06-02-2009</td>\n",
              "    </tr>\n",
              "    <tr>\n",
              "      <th>1776</th>\n",
              "      <td>How to speak so that people want to listen</td>\n",
              "      <td>Julian Treasure</td>\n",
              "      <td>21594632</td>\n",
              "      <td>10-06-2013</td>\n",
              "    </tr>\n",
              "    <tr>\n",
              "      <th>201</th>\n",
              "      <td>My stroke of insight</td>\n",
              "      <td>Jill Bolte Taylor</td>\n",
              "      <td>21190883</td>\n",
              "      <td>27-02-2008</td>\n",
              "    </tr>\n",
              "    <tr>\n",
              "      <th>5</th>\n",
              "      <td>Why we do what we do</td>\n",
              "      <td>Tony Robbins</td>\n",
              "      <td>20685401</td>\n",
              "      <td>02-02-2006</td>\n",
              "    </tr>\n",
              "    <tr>\n",
              "      <th>2114</th>\n",
              "      <td>This is what happens when you reply to spam email</td>\n",
              "      <td>James Veitch</td>\n",
              "      <td>20475972</td>\n",
              "      <td>08-12-2015</td>\n",
              "    </tr>\n",
              "    <tr>\n",
              "      <th>1416</th>\n",
              "      <td>Looks aren't everything. Believe me, I'm a model.</td>\n",
              "      <td>Cameron Russell</td>\n",
              "      <td>19787465</td>\n",
              "      <td>27-10-2012</td>\n",
              "    </tr>\n",
              "    <tr>\n",
              "      <th>500</th>\n",
              "      <td>The puzzle of motivation</td>\n",
              "      <td>Dan Pink</td>\n",
              "      <td>18830983</td>\n",
              "      <td>24-07-2009</td>\n",
              "    </tr>\n",
              "    <tr>\n",
              "      <th>1163</th>\n",
              "      <td>The power of introverts</td>\n",
              "      <td>Susan Cain</td>\n",
              "      <td>17629275</td>\n",
              "      <td>28-02-2012</td>\n",
              "    </tr>\n",
              "    <tr>\n",
              "      <th>1036</th>\n",
              "      <td>How to spot a liar</td>\n",
              "      <td>Pamela Meyer</td>\n",
              "      <td>16861578</td>\n",
              "      <td>13-07-2011</td>\n",
              "    </tr>\n",
              "    <tr>\n",
              "      <th>2109</th>\n",
              "      <td>What makes a good life? Lessons from the longe...</td>\n",
              "      <td>Robert Waldinger</td>\n",
              "      <td>16601927</td>\n",
              "      <td>14-11-2015</td>\n",
              "    </tr>\n",
              "    <tr>\n",
              "      <th>1129</th>\n",
              "      <td>The happy secret to better work</td>\n",
              "      <td>Shawn Achor</td>\n",
              "      <td>16209727</td>\n",
              "      <td>11-05-2011</td>\n",
              "    </tr>\n",
              "  </tbody>\n",
              "</table>\n",
              "</div>"
            ],
            "text/plain": [
              "                                                  title       main_speaker  \\\n",
              "0                           Do schools kill creativity?       Ken Robinson   \n",
              "1346           Your body language may shape who you are          Amy Cuddy   \n",
              "677                    How great leaders inspire action        Simon Sinek   \n",
              "837                          The power of vulnerability        Brené Brown   \n",
              "452              10 things you didn't know about orgasm         Mary Roach   \n",
              "1776         How to speak so that people want to listen    Julian Treasure   \n",
              "201                                My stroke of insight  Jill Bolte Taylor   \n",
              "5                                  Why we do what we do       Tony Robbins   \n",
              "2114  This is what happens when you reply to spam email       James Veitch   \n",
              "1416  Looks aren't everything. Believe me, I'm a model.    Cameron Russell   \n",
              "500                            The puzzle of motivation           Dan Pink   \n",
              "1163                            The power of introverts         Susan Cain   \n",
              "1036                                 How to spot a liar       Pamela Meyer   \n",
              "2109  What makes a good life? Lessons from the longe...   Robert Waldinger   \n",
              "1129                    The happy secret to better work        Shawn Achor   \n",
              "\n",
              "         views   film_date  \n",
              "0     47227110  25-02-2006  \n",
              "1346  43155405  26-06-2012  \n",
              "677   34309432  17-09-2009  \n",
              "837   31168150  06-06-2010  \n",
              "452   22270883  06-02-2009  \n",
              "1776  21594632  10-06-2013  \n",
              "201   21190883  27-02-2008  \n",
              "5     20685401  02-02-2006  \n",
              "2114  20475972  08-12-2015  \n",
              "1416  19787465  27-10-2012  \n",
              "500   18830983  24-07-2009  \n",
              "1163  17629275  28-02-2012  \n",
              "1036  16861578  13-07-2011  \n",
              "2109  16601927  14-11-2015  \n",
              "1129  16209727  11-05-2011  "
            ]
          },
          "metadata": {
            "tags": []
          },
          "execution_count": 8
        }
      ]
    },
    {
      "cell_type": "markdown",
      "metadata": {
        "id": "vw12xGrJRqNJ"
      },
      "source": [
        "# **Observations:**"
      ]
    },
    {
      "cell_type": "markdown",
      "metadata": {
        "id": "BPHE7AhjRzME"
      },
      "source": [
        "# 1)Ken Robinson's talk on Do Schools Kill Creativity? is the most popular TED Talk of all time with 47.2 million views.\n",
        "\n",
        "# 2)Also coincidentally, it is also one of the first talks to ever be uploaded on the TED Site (the main dataset is sorted by published date).\n",
        "\n",
        "# 3)Robinson's talk is closely followed by Amy Cuddy's talk on Your Body Language May Shape Who You Are. There are only 2 talks that have surpassed the 40 million mark and 4 talks that have crossed the 30 million mark."
      ]
    },
    {
      "cell_type": "markdown",
      "metadata": {
        "id": "Wq4_mOp9SUfo"
      },
      "source": [
        "# **creating a subset of the data, sorting the values according to 'views'**"
      ]
    },
    {
      "cell_type": "code",
      "metadata": {
        "colab": {
          "base_uri": "https://localhost:8080/",
          "height": 514
        },
        "id": "4Y4BRBHHBfpm",
        "outputId": "2f9ed80d-92c9-4ee8-c001-29ce47add3d4"
      },
      "source": [
        "df[['title', 'main_speaker', 'views', 'film_date']].sort_values('views', ascending=False)[:15]"
      ],
      "execution_count": 9,
      "outputs": [
        {
          "output_type": "execute_result",
          "data": {
            "text/html": [
              "<div>\n",
              "<style scoped>\n",
              "    .dataframe tbody tr th:only-of-type {\n",
              "        vertical-align: middle;\n",
              "    }\n",
              "\n",
              "    .dataframe tbody tr th {\n",
              "        vertical-align: top;\n",
              "    }\n",
              "\n",
              "    .dataframe thead th {\n",
              "        text-align: right;\n",
              "    }\n",
              "</style>\n",
              "<table border=\"1\" class=\"dataframe\">\n",
              "  <thead>\n",
              "    <tr style=\"text-align: right;\">\n",
              "      <th></th>\n",
              "      <th>title</th>\n",
              "      <th>main_speaker</th>\n",
              "      <th>views</th>\n",
              "      <th>film_date</th>\n",
              "    </tr>\n",
              "  </thead>\n",
              "  <tbody>\n",
              "    <tr>\n",
              "      <th>0</th>\n",
              "      <td>Do schools kill creativity?</td>\n",
              "      <td>Ken Robinson</td>\n",
              "      <td>47227110</td>\n",
              "      <td>25-02-2006</td>\n",
              "    </tr>\n",
              "    <tr>\n",
              "      <th>1346</th>\n",
              "      <td>Your body language may shape who you are</td>\n",
              "      <td>Amy Cuddy</td>\n",
              "      <td>43155405</td>\n",
              "      <td>26-06-2012</td>\n",
              "    </tr>\n",
              "    <tr>\n",
              "      <th>677</th>\n",
              "      <td>How great leaders inspire action</td>\n",
              "      <td>Simon Sinek</td>\n",
              "      <td>34309432</td>\n",
              "      <td>17-09-2009</td>\n",
              "    </tr>\n",
              "    <tr>\n",
              "      <th>837</th>\n",
              "      <td>The power of vulnerability</td>\n",
              "      <td>Brené Brown</td>\n",
              "      <td>31168150</td>\n",
              "      <td>06-06-2010</td>\n",
              "    </tr>\n",
              "    <tr>\n",
              "      <th>452</th>\n",
              "      <td>10 things you didn't know about orgasm</td>\n",
              "      <td>Mary Roach</td>\n",
              "      <td>22270883</td>\n",
              "      <td>06-02-2009</td>\n",
              "    </tr>\n",
              "    <tr>\n",
              "      <th>1776</th>\n",
              "      <td>How to speak so that people want to listen</td>\n",
              "      <td>Julian Treasure</td>\n",
              "      <td>21594632</td>\n",
              "      <td>10-06-2013</td>\n",
              "    </tr>\n",
              "    <tr>\n",
              "      <th>201</th>\n",
              "      <td>My stroke of insight</td>\n",
              "      <td>Jill Bolte Taylor</td>\n",
              "      <td>21190883</td>\n",
              "      <td>27-02-2008</td>\n",
              "    </tr>\n",
              "    <tr>\n",
              "      <th>5</th>\n",
              "      <td>Why we do what we do</td>\n",
              "      <td>Tony Robbins</td>\n",
              "      <td>20685401</td>\n",
              "      <td>02-02-2006</td>\n",
              "    </tr>\n",
              "    <tr>\n",
              "      <th>2114</th>\n",
              "      <td>This is what happens when you reply to spam email</td>\n",
              "      <td>James Veitch</td>\n",
              "      <td>20475972</td>\n",
              "      <td>08-12-2015</td>\n",
              "    </tr>\n",
              "    <tr>\n",
              "      <th>1416</th>\n",
              "      <td>Looks aren't everything. Believe me, I'm a model.</td>\n",
              "      <td>Cameron Russell</td>\n",
              "      <td>19787465</td>\n",
              "      <td>27-10-2012</td>\n",
              "    </tr>\n",
              "    <tr>\n",
              "      <th>500</th>\n",
              "      <td>The puzzle of motivation</td>\n",
              "      <td>Dan Pink</td>\n",
              "      <td>18830983</td>\n",
              "      <td>24-07-2009</td>\n",
              "    </tr>\n",
              "    <tr>\n",
              "      <th>1163</th>\n",
              "      <td>The power of introverts</td>\n",
              "      <td>Susan Cain</td>\n",
              "      <td>17629275</td>\n",
              "      <td>28-02-2012</td>\n",
              "    </tr>\n",
              "    <tr>\n",
              "      <th>1036</th>\n",
              "      <td>How to spot a liar</td>\n",
              "      <td>Pamela Meyer</td>\n",
              "      <td>16861578</td>\n",
              "      <td>13-07-2011</td>\n",
              "    </tr>\n",
              "    <tr>\n",
              "      <th>2109</th>\n",
              "      <td>What makes a good life? Lessons from the longe...</td>\n",
              "      <td>Robert Waldinger</td>\n",
              "      <td>16601927</td>\n",
              "      <td>14-11-2015</td>\n",
              "    </tr>\n",
              "    <tr>\n",
              "      <th>1129</th>\n",
              "      <td>The happy secret to better work</td>\n",
              "      <td>Shawn Achor</td>\n",
              "      <td>16209727</td>\n",
              "      <td>11-05-2011</td>\n",
              "    </tr>\n",
              "  </tbody>\n",
              "</table>\n",
              "</div>"
            ],
            "text/plain": [
              "                                                  title       main_speaker  \\\n",
              "0                           Do schools kill creativity?       Ken Robinson   \n",
              "1346           Your body language may shape who you are          Amy Cuddy   \n",
              "677                    How great leaders inspire action        Simon Sinek   \n",
              "837                          The power of vulnerability        Brené Brown   \n",
              "452              10 things you didn't know about orgasm         Mary Roach   \n",
              "1776         How to speak so that people want to listen    Julian Treasure   \n",
              "201                                My stroke of insight  Jill Bolte Taylor   \n",
              "5                                  Why we do what we do       Tony Robbins   \n",
              "2114  This is what happens when you reply to spam email       James Veitch   \n",
              "1416  Looks aren't everything. Believe me, I'm a model.    Cameron Russell   \n",
              "500                            The puzzle of motivation           Dan Pink   \n",
              "1163                            The power of introverts         Susan Cain   \n",
              "1036                                 How to spot a liar       Pamela Meyer   \n",
              "2109  What makes a good life? Lessons from the longe...   Robert Waldinger   \n",
              "1129                    The happy secret to better work        Shawn Achor   \n",
              "\n",
              "         views   film_date  \n",
              "0     47227110  25-02-2006  \n",
              "1346  43155405  26-06-2012  \n",
              "677   34309432  17-09-2009  \n",
              "837   31168150  06-06-2010  \n",
              "452   22270883  06-02-2009  \n",
              "1776  21594632  10-06-2013  \n",
              "201   21190883  27-02-2008  \n",
              "5     20685401  02-02-2006  \n",
              "2114  20475972  08-12-2015  \n",
              "1416  19787465  27-10-2012  \n",
              "500   18830983  24-07-2009  \n",
              "1163  17629275  28-02-2012  \n",
              "1036  16861578  13-07-2011  \n",
              "2109  16601927  14-11-2015  \n",
              "1129  16209727  11-05-2011  "
            ]
          },
          "metadata": {
            "tags": []
          },
          "execution_count": 9
        }
      ]
    },
    {
      "cell_type": "markdown",
      "metadata": {
        "id": "jdpiCeufSfld"
      },
      "source": [
        "# **Let us make a bar chart to visualise these 15 talks in terms of the number of views they garnered.**"
      ]
    },
    {
      "cell_type": "markdown",
      "metadata": {
        "id": "JObtT46lANea"
      },
      "source": [
        "#  The first three letters of the first name of the speaker\n"
      ]
    },
    {
      "cell_type": "code",
      "metadata": {
        "colab": {
          "base_uri": "https://localhost:8080/",
          "height": 568
        },
        "id": "nBMbeWbkSaaO",
        "outputId": "4c451a5d-8762-422f-f93e-14bf2c77415b"
      },
      "source": [
        "pop_talks['abbr'] = pop_talks['main_speaker'].apply(lambda x: x[:3])\n",
        "\n",
        "plt.figure(figsize=(15,8))\n",
        "\n",
        "sns.barplot(x='abbr', y='views', data=pop_talks)"
      ],
      "execution_count": 10,
      "outputs": [
        {
          "output_type": "execute_result",
          "data": {
            "text/plain": [
              "<matplotlib.axes._subplots.AxesSubplot at 0x7f8f3dea7438>"
            ]
          },
          "metadata": {
            "tags": []
          },
          "execution_count": 10
        },
        {
          "output_type": "display_data",
          "data": {
            "image/png": "[encoded data removed]",
            "text/plain": [
              "<Figure size 1080x576 with 1 Axes>"
            ]
          },
          "metadata": {
            "tags": []
          }
        }
      ]
    },
    {
      "cell_type": "code",
      "metadata": {
        "colab": {
          "base_uri": "https://localhost:8080/",
          "height": 204
        },
        "id": "odHNXpZYAXuR",
        "outputId": "421533d5-cebe-4951-b53c-95d039457baa"
      },
      "source": [
        "pop_talks.head()"
      ],
      "execution_count": 11,
      "outputs": [
        {
          "output_type": "execute_result",
          "data": {
            "text/html": [
              "<div>\n",
              "<style scoped>\n",
              "    .dataframe tbody tr th:only-of-type {\n",
              "        vertical-align: middle;\n",
              "    }\n",
              "\n",
              "    .dataframe tbody tr th {\n",
              "        vertical-align: top;\n",
              "    }\n",
              "\n",
              "    .dataframe thead th {\n",
              "        text-align: right;\n",
              "    }\n",
              "</style>\n",
              "<table border=\"1\" class=\"dataframe\">\n",
              "  <thead>\n",
              "    <tr style=\"text-align: right;\">\n",
              "      <th></th>\n",
              "      <th>title</th>\n",
              "      <th>main_speaker</th>\n",
              "      <th>views</th>\n",
              "      <th>film_date</th>\n",
              "      <th>abbr</th>\n",
              "    </tr>\n",
              "  </thead>\n",
              "  <tbody>\n",
              "    <tr>\n",
              "      <th>0</th>\n",
              "      <td>Do schools kill creativity?</td>\n",
              "      <td>Ken Robinson</td>\n",
              "      <td>47227110</td>\n",
              "      <td>25-02-2006</td>\n",
              "      <td>Ken</td>\n",
              "    </tr>\n",
              "    <tr>\n",
              "      <th>1346</th>\n",
              "      <td>Your body language may shape who you are</td>\n",
              "      <td>Amy Cuddy</td>\n",
              "      <td>43155405</td>\n",
              "      <td>26-06-2012</td>\n",
              "      <td>Amy</td>\n",
              "    </tr>\n",
              "    <tr>\n",
              "      <th>677</th>\n",
              "      <td>How great leaders inspire action</td>\n",
              "      <td>Simon Sinek</td>\n",
              "      <td>34309432</td>\n",
              "      <td>17-09-2009</td>\n",
              "      <td>Sim</td>\n",
              "    </tr>\n",
              "    <tr>\n",
              "      <th>837</th>\n",
              "      <td>The power of vulnerability</td>\n",
              "      <td>Brené Brown</td>\n",
              "      <td>31168150</td>\n",
              "      <td>06-06-2010</td>\n",
              "      <td>Bre</td>\n",
              "    </tr>\n",
              "    <tr>\n",
              "      <th>452</th>\n",
              "      <td>10 things you didn't know about orgasm</td>\n",
              "      <td>Mary Roach</td>\n",
              "      <td>22270883</td>\n",
              "      <td>06-02-2009</td>\n",
              "      <td>Mar</td>\n",
              "    </tr>\n",
              "  </tbody>\n",
              "</table>\n",
              "</div>"
            ],
            "text/plain": [
              "                                         title  main_speaker     views  \\\n",
              "0                  Do schools kill creativity?  Ken Robinson  47227110   \n",
              "1346  Your body language may shape who you are     Amy Cuddy  43155405   \n",
              "677           How great leaders inspire action   Simon Sinek  34309432   \n",
              "837                 The power of vulnerability   Brené Brown  31168150   \n",
              "452     10 things you didn't know about orgasm    Mary Roach  22270883   \n",
              "\n",
              "       film_date abbr  \n",
              "0     25-02-2006  Ken  \n",
              "1346  26-06-2012  Amy  \n",
              "677   17-09-2009  Sim  \n",
              "837   06-06-2010  Bre  \n",
              "452   06-02-2009  Mar  "
            ]
          },
          "metadata": {
            "tags": []
          },
          "execution_count": 11
        }
      ]
    },
    {
      "cell_type": "markdown",
      "metadata": {
        "id": "Sv3ZXIjjA8rd"
      },
      "source": [
        "# **distribution of views**"
      ]
    },
    {
      "cell_type": "code",
      "metadata": {
        "colab": {
          "base_uri": "https://localhost:8080/",
          "height": 335
        },
        "id": "K2Hz-90bArbZ",
        "outputId": "7e612386-f5da-463b-df9c-1142b91d1048"
      },
      "source": [
        "sns.distplot(df['views'],hist = False)"
      ],
      "execution_count": 12,
      "outputs": [
        {
          "output_type": "execute_result",
          "data": {
            "text/plain": [
              "<matplotlib.axes._subplots.AxesSubplot at 0x7f8f2048c1d0>"
            ]
          },
          "metadata": {
            "tags": []
          },
          "execution_count": 12
        },
        {
          "output_type": "display_data",
          "data": {
            "image/png": "[encoded data removed]",
            "text/plain": [
              "<Figure size 432x288 with 1 Axes>"
            ]
          },
          "metadata": {
            "tags": []
          }
        }
      ]
    },
    {
      "cell_type": "markdown",
      "metadata": {
        "id": "Wo7Owi_dCuAo"
      },
      "source": [
        "# **descriptive statics of views**"
      ]
    },
    {
      "cell_type": "code",
      "metadata": {
        "colab": {
          "base_uri": "https://localhost:8080/"
        },
        "id": "uwbJHdvWCLoE",
        "outputId": "e276e894-35f4-4e09-b2b7-ef52e091bb2a"
      },
      "source": [
        "df['views'].describe()"
      ],
      "execution_count": 13,
      "outputs": [
        {
          "output_type": "execute_result",
          "data": {
            "text/plain": [
              "count    2.550000e+03\n",
              "mean     1.698297e+06\n",
              "std      2.498479e+06\n",
              "min      5.044300e+04\n",
              "25%      7.557928e+05\n",
              "50%      1.124524e+06\n",
              "75%      1.700760e+06\n",
              "max      4.722711e+07\n",
              "Name: views, dtype: float64"
            ]
          },
          "metadata": {
            "tags": []
          },
          "execution_count": 13
        }
      ]
    },
    {
      "cell_type": "markdown",
      "metadata": {
        "id": "hjU6MGpOC6D-"
      },
      "source": [
        "# **observations**"
      ]
    },
    {
      "cell_type": "markdown",
      "metadata": {
        "id": "QMB0KJ95DIcR"
      },
      "source": [
        "# **The average number of views on TED Talks in 1.6 million**"
      ]
    },
    {
      "cell_type": "markdown",
      "metadata": {
        "id": "ITBwPU0ODTUl"
      },
      "source": [
        "# **the median number of views is 1.12 million** \n",
        "\n",
        "# **This suggests a very high average level of popularity of TED Talks**"
      ]
    },
    {
      "cell_type": "markdown",
      "metadata": {
        "id": "dgUgdo3jECLi"
      },
      "source": [
        "# **We also notice that the majority of talks have views less than 4 million.**"
      ]
    },
    {
      "cell_type": "markdown",
      "metadata": {
        "id": "VrpbosaREWLW"
      },
      "source": [
        "# **descriptive statics of comments**"
      ]
    },
    {
      "cell_type": "code",
      "metadata": {
        "colab": {
          "base_uri": "https://localhost:8080/"
        },
        "id": "k77XXp4MCqcJ",
        "outputId": "471d6de2-d09d-42dc-ddb9-2756ba911cde"
      },
      "source": [
        "df['comments'].describe()"
      ],
      "execution_count": 14,
      "outputs": [
        {
          "output_type": "execute_result",
          "data": {
            "text/plain": [
              "count    2550.000000\n",
              "mean      191.562353\n",
              "std       282.315223\n",
              "min         2.000000\n",
              "25%        63.000000\n",
              "50%       118.000000\n",
              "75%       221.750000\n",
              "max      6404.000000\n",
              "Name: comments, dtype: float64"
            ]
          },
          "metadata": {
            "tags": []
          },
          "execution_count": 14
        }
      ]
    },
    {
      "cell_type": "markdown",
      "metadata": {
        "id": "xZsdneXAEoXT"
      },
      "source": [
        "# **observations**"
      ]
    },
    {
      "cell_type": "markdown",
      "metadata": {
        "id": "JJ9sifHdEtjc"
      },
      "source": [
        "# **On average, there are 191.5 comments on every TED Talk**"
      ]
    },
    {
      "cell_type": "markdown",
      "metadata": {
        "id": "XbBf-0NwE07q"
      },
      "source": [
        "# **we can conclude that the TED Online Community is highly involved in discussions revolving TED Talks.**"
      ]
    },
    {
      "cell_type": "markdown",
      "metadata": {
        "id": "FvHZQtkLE8qe"
      },
      "source": [
        "# **There is a huge standard deviation associated with the comments.**"
      ]
    },
    {
      "cell_type": "markdown",
      "metadata": {
        "id": "KDdBJhrIFGA7"
      },
      "source": [
        "# **In fact, it is even larger than the mean suggesting that the measures may be sensitive to outliers**"
      ]
    },
    {
      "cell_type": "markdown",
      "metadata": {
        "id": "e6x_Y7KqFcFh"
      },
      "source": [
        "# **The minimum number of comments on a talk is 2 and the maximum is 6404. The range is 6402.**"
      ]
    },
    {
      "cell_type": "markdown",
      "metadata": {
        "id": "POaaA-EMFjGh"
      },
      "source": [
        "# **The minimum number, though, may be as a result of the talk being posted extremely recently.**"
      ]
    },
    {
      "cell_type": "markdown",
      "metadata": {
        "id": "N9r_wuRBFtbg"
      },
      "source": [
        "# distribution of comments"
      ]
    },
    {
      "cell_type": "code",
      "metadata": {
        "colab": {
          "base_uri": "https://localhost:8080/",
          "height": 321
        },
        "id": "TuD-RsujERNt",
        "outputId": "447b2480-fdb7-4ad4-f2db-2fd28aecc059"
      },
      "source": [
        "sns.distplot(df['comments'], hist=False)"
      ],
      "execution_count": 15,
      "outputs": [
        {
          "output_type": "execute_result",
          "data": {
            "text/plain": [
              "<matplotlib.axes._subplots.AxesSubplot at 0x7f8f1fe83550>"
            ]
          },
          "metadata": {
            "tags": []
          },
          "execution_count": 15
        },
        {
          "output_type": "display_data",
          "data": {
            "image/png": "[encoded data removed]",
            "text/plain": [
              "<Figure size 432x288 with 1 Axes>"
            ]
          },
          "metadata": {
            "tags": []
          }
        }
      ]
    },
    {
      "cell_type": "code",
      "metadata": {
        "colab": {
          "base_uri": "https://localhost:8080/",
          "height": 321
        },
        "id": "vdW2MqVEFqQk",
        "outputId": "e9faac0e-15eb-4066-e975-a9d89b571ff9"
      },
      "source": [
        "sns.distplot(df[df['comments'] < 500]['comments'],hist = False)"
      ],
      "execution_count": 16,
      "outputs": [
        {
          "output_type": "execute_result",
          "data": {
            "text/plain": [
              "<matplotlib.axes._subplots.AxesSubplot at 0x7f8f1eb94b00>"
            ]
          },
          "metadata": {
            "tags": []
          },
          "execution_count": 16
        },
        {
          "output_type": "display_data",
          "data": {
            "image/png": "[encoded data removed]",
            "text/plain": [
              "<Figure size 432x288 with 1 Axes>"
            ]
          },
          "metadata": {
            "tags": []
          }
        }
      ]
    },
    {
      "cell_type": "markdown",
      "metadata": {
        "id": "WzNiDTV4G83v"
      },
      "source": [
        "# Observations"
      ]
    },
    {
      "cell_type": "markdown",
      "metadata": {
        "id": "_Jhfg2G5IyOl"
      },
      "source": [
        "# **From the plot above, we can see that the bulk of the talks have fewer than 500 comments.**"
      ]
    },
    {
      "cell_type": "markdown",
      "metadata": {
        "id": "fa5V48AWJcXh"
      },
      "source": [
        "# **This clearly suggests that the mean obtained above has been heavily influenced by outliers. This is possible because the number of samples is only 2550 talks.**"
      ]
    },
    {
      "cell_type": "markdown",
      "metadata": {
        "id": "w0kajTbXJiu6"
      },
      "source": [
        "# **co-relation between views and comments**"
      ]
    },
    {
      "cell_type": "code",
      "metadata": {
        "colab": {
          "base_uri": "https://localhost:8080/",
          "height": 321
        },
        "id": "WLeDtr55G1Co",
        "outputId": "2062f296-156a-450c-9af4-a246e1307dd2"
      },
      "source": [
        "plt.scatter(x='views', y='comments', data=df)\n",
        "\n",
        "plt.xlabel('views')\n",
        "\n",
        "plt.ylabel('comments')"
      ],
      "execution_count": 17,
      "outputs": [
        {
          "output_type": "execute_result",
          "data": {
            "text/plain": [
              "Text(0, 0.5, 'comments')"
            ]
          },
          "metadata": {
            "tags": []
          },
          "execution_count": 17
        },
        {
          "output_type": "display_data",
          "data": {
            "image/png": "[encoded data removed]",
            "text/plain": [
              "<Figure size 432x288 with 1 Axes>"
            ]
          },
          "metadata": {
            "tags": []
          }
        }
      ]
    },
    {
      "cell_type": "code",
      "metadata": {
        "colab": {
          "base_uri": "https://localhost:8080/",
          "height": 111
        },
        "id": "p1G0R-_uK8jI",
        "outputId": "4983f755-815d-457b-fde6-46b96f948e8c"
      },
      "source": [
        "df[['views', 'comments']].corr()"
      ],
      "execution_count": 18,
      "outputs": [
        {
          "output_type": "execute_result",
          "data": {
            "text/html": [
              "<div>\n",
              "<style scoped>\n",
              "    .dataframe tbody tr th:only-of-type {\n",
              "        vertical-align: middle;\n",
              "    }\n",
              "\n",
              "    .dataframe tbody tr th {\n",
              "        vertical-align: top;\n",
              "    }\n",
              "\n",
              "    .dataframe thead th {\n",
              "        text-align: right;\n",
              "    }\n",
              "</style>\n",
              "<table border=\"1\" class=\"dataframe\">\n",
              "  <thead>\n",
              "    <tr style=\"text-align: right;\">\n",
              "      <th></th>\n",
              "      <th>views</th>\n",
              "      <th>comments</th>\n",
              "    </tr>\n",
              "  </thead>\n",
              "  <tbody>\n",
              "    <tr>\n",
              "      <th>views</th>\n",
              "      <td>1.000000</td>\n",
              "      <td>0.530939</td>\n",
              "    </tr>\n",
              "    <tr>\n",
              "      <th>comments</th>\n",
              "      <td>0.530939</td>\n",
              "      <td>1.000000</td>\n",
              "    </tr>\n",
              "  </tbody>\n",
              "</table>\n",
              "</div>"
            ],
            "text/plain": [
              "             views  comments\n",
              "views     1.000000  0.530939\n",
              "comments  0.530939  1.000000"
            ]
          },
          "metadata": {
            "tags": []
          },
          "execution_count": 18
        }
      ]
    },
    {
      "cell_type": "markdown",
      "metadata": {
        "id": "mFQ78hQQMFgD"
      },
      "source": [
        "# **observations**"
      ]
    },
    {
      "cell_type": "markdown",
      "metadata": {
        "id": "rfOmf9qI6r2V"
      },
      "source": [
        "# As the scatterplot and the correlation matrix show, the pearson coefficient is slightly more than 0.5. This suggests a medium to strong correlation between the two quantities."
      ]
    },
    {
      "cell_type": "markdown",
      "metadata": {
        "id": "3tuZwVQd7BhL"
      },
      "source": [
        "# **now check the number of views and comments on the 10 most commented TED Talks of all time.**"
      ]
    },
    {
      "cell_type": "code",
      "metadata": {
        "colab": {
          "base_uri": "https://localhost:8080/",
          "height": 359
        },
        "id": "DMrQ7XFFL-FC",
        "outputId": "7f401454-dba3-47cc-87c6-a5e40dfb6da5"
      },
      "source": [
        "df[['title', 'main_speaker','views', 'comments']].sort_values('comments', ascending=False).head(10)"
      ],
      "execution_count": 19,
      "outputs": [
        {
          "output_type": "execute_result",
          "data": {
            "text/html": [
              "<div>\n",
              "<style scoped>\n",
              "    .dataframe tbody tr th:only-of-type {\n",
              "        vertical-align: middle;\n",
              "    }\n",
              "\n",
              "    .dataframe tbody tr th {\n",
              "        vertical-align: top;\n",
              "    }\n",
              "\n",
              "    .dataframe thead th {\n",
              "        text-align: right;\n",
              "    }\n",
              "</style>\n",
              "<table border=\"1\" class=\"dataframe\">\n",
              "  <thead>\n",
              "    <tr style=\"text-align: right;\">\n",
              "      <th></th>\n",
              "      <th>title</th>\n",
              "      <th>main_speaker</th>\n",
              "      <th>views</th>\n",
              "      <th>comments</th>\n",
              "    </tr>\n",
              "  </thead>\n",
              "  <tbody>\n",
              "    <tr>\n",
              "      <th>96</th>\n",
              "      <td>Militant atheism</td>\n",
              "      <td>Richard Dawkins</td>\n",
              "      <td>4374792</td>\n",
              "      <td>6404</td>\n",
              "    </tr>\n",
              "    <tr>\n",
              "      <th>0</th>\n",
              "      <td>Do schools kill creativity?</td>\n",
              "      <td>Ken Robinson</td>\n",
              "      <td>47227110</td>\n",
              "      <td>4553</td>\n",
              "    </tr>\n",
              "    <tr>\n",
              "      <th>644</th>\n",
              "      <td>Science can answer moral questions</td>\n",
              "      <td>Sam Harris</td>\n",
              "      <td>3433437</td>\n",
              "      <td>3356</td>\n",
              "    </tr>\n",
              "    <tr>\n",
              "      <th>201</th>\n",
              "      <td>My stroke of insight</td>\n",
              "      <td>Jill Bolte Taylor</td>\n",
              "      <td>21190883</td>\n",
              "      <td>2877</td>\n",
              "    </tr>\n",
              "    <tr>\n",
              "      <th>1787</th>\n",
              "      <td>How do you explain consciousness?</td>\n",
              "      <td>David Chalmers</td>\n",
              "      <td>2162764</td>\n",
              "      <td>2673</td>\n",
              "    </tr>\n",
              "    <tr>\n",
              "      <th>954</th>\n",
              "      <td>Taking imagination seriously</td>\n",
              "      <td>Janet Echelman</td>\n",
              "      <td>1832930</td>\n",
              "      <td>2492</td>\n",
              "    </tr>\n",
              "    <tr>\n",
              "      <th>840</th>\n",
              "      <td>On reading the Koran</td>\n",
              "      <td>Lesley Hazleton</td>\n",
              "      <td>1847256</td>\n",
              "      <td>2374</td>\n",
              "    </tr>\n",
              "    <tr>\n",
              "      <th>1346</th>\n",
              "      <td>Your body language may shape who you are</td>\n",
              "      <td>Amy Cuddy</td>\n",
              "      <td>43155405</td>\n",
              "      <td>2290</td>\n",
              "    </tr>\n",
              "    <tr>\n",
              "      <th>661</th>\n",
              "      <td>The danger of science denial</td>\n",
              "      <td>Michael Specter</td>\n",
              "      <td>1838628</td>\n",
              "      <td>2272</td>\n",
              "    </tr>\n",
              "    <tr>\n",
              "      <th>677</th>\n",
              "      <td>How great leaders inspire action</td>\n",
              "      <td>Simon Sinek</td>\n",
              "      <td>34309432</td>\n",
              "      <td>1930</td>\n",
              "    </tr>\n",
              "  </tbody>\n",
              "</table>\n",
              "</div>"
            ],
            "text/plain": [
              "                                         title       main_speaker     views  \\\n",
              "96                            Militant atheism    Richard Dawkins   4374792   \n",
              "0                  Do schools kill creativity?       Ken Robinson  47227110   \n",
              "644         Science can answer moral questions         Sam Harris   3433437   \n",
              "201                       My stroke of insight  Jill Bolte Taylor  21190883   \n",
              "1787         How do you explain consciousness?     David Chalmers   2162764   \n",
              "954               Taking imagination seriously     Janet Echelman   1832930   \n",
              "840                       On reading the Koran    Lesley Hazleton   1847256   \n",
              "1346  Your body language may shape who you are          Amy Cuddy  43155405   \n",
              "661               The danger of science denial    Michael Specter   1838628   \n",
              "677           How great leaders inspire action        Simon Sinek  34309432   \n",
              "\n",
              "      comments  \n",
              "96        6404  \n",
              "0         4553  \n",
              "644       3356  \n",
              "201       2877  \n",
              "1787      2673  \n",
              "954       2492  \n",
              "840       2374  \n",
              "1346      2290  \n",
              "661       2272  \n",
              "677       1930  "
            ]
          },
          "metadata": {
            "tags": []
          },
          "execution_count": 19
        }
      ]
    },
    {
      "cell_type": "markdown",
      "metadata": {
        "id": "D3_ZcldU7gsw"
      },
      "source": [
        "# **observations**"
      ]
    },
    {
      "cell_type": "markdown",
      "metadata": {
        "id": "-f0gxMDd7k5K"
      },
      "source": [
        "# As can be seen above, Richard Dawkins' talk on Militant Atheism' generated the greatest amount of discussion and opinions despite having significantly lesser views than Ken Robinson's talk, which is second in the list. This raises some interesting questions which is what we want to explore further."
      ]
    },
    {
      "cell_type": "markdown",
      "metadata": {
        "id": "08ZqZNm69Bbr"
      },
      "source": [
        "# **Which talks tend to attract the largest amount of discussion?**"
      ]
    },
    {
      "cell_type": "markdown",
      "metadata": {
        "id": "sEqCeyMc9Lg7"
      },
      "source": [
        "# To answer this question, we will define a new feature discussion quotient which is simply the ratio of the number of comments to the number of views. We will then check which talks have the largest discussion quotient.\n",
        "\n"
      ]
    },
    {
      "cell_type": "code",
      "metadata": {
        "id": "562_EzrI7IdH"
      },
      "source": [
        "df['dis_quo'] = df['comments']/df['views']\n"
      ],
      "execution_count": 20,
      "outputs": []
    },
    {
      "cell_type": "code",
      "metadata": {
        "colab": {
          "base_uri": "https://localhost:8080/",
          "height": 359
        },
        "id": "osR-7k1B9S55",
        "outputId": "15381eee-7766-4883-843b-0cf46d3a3d37"
      },
      "source": [
        "df[['title', 'main_speaker','views', 'comments', 'dis_quo', 'film_date']].sort_values('dis_quo', ascending=False).head(10)\n"
      ],
      "execution_count": 21,
      "outputs": [
        {
          "output_type": "execute_result",
          "data": {
            "text/html": [
              "<div>\n",
              "<style scoped>\n",
              "    .dataframe tbody tr th:only-of-type {\n",
              "        vertical-align: middle;\n",
              "    }\n",
              "\n",
              "    .dataframe tbody tr th {\n",
              "        vertical-align: top;\n",
              "    }\n",
              "\n",
              "    .dataframe thead th {\n",
              "        text-align: right;\n",
              "    }\n",
              "</style>\n",
              "<table border=\"1\" class=\"dataframe\">\n",
              "  <thead>\n",
              "    <tr style=\"text-align: right;\">\n",
              "      <th></th>\n",
              "      <th>title</th>\n",
              "      <th>main_speaker</th>\n",
              "      <th>views</th>\n",
              "      <th>comments</th>\n",
              "      <th>dis_quo</th>\n",
              "      <th>film_date</th>\n",
              "    </tr>\n",
              "  </thead>\n",
              "  <tbody>\n",
              "    <tr>\n",
              "      <th>744</th>\n",
              "      <td>The case for same-sex marriage</td>\n",
              "      <td>Diane J. Savino</td>\n",
              "      <td>292395</td>\n",
              "      <td>649</td>\n",
              "      <td>0.002220</td>\n",
              "      <td>02-12-2009</td>\n",
              "    </tr>\n",
              "    <tr>\n",
              "      <th>803</th>\n",
              "      <td>E-voting without fraud</td>\n",
              "      <td>David Bismark</td>\n",
              "      <td>543551</td>\n",
              "      <td>834</td>\n",
              "      <td>0.001534</td>\n",
              "      <td>14-07-2010</td>\n",
              "    </tr>\n",
              "    <tr>\n",
              "      <th>96</th>\n",
              "      <td>Militant atheism</td>\n",
              "      <td>Richard Dawkins</td>\n",
              "      <td>4374792</td>\n",
              "      <td>6404</td>\n",
              "      <td>0.001464</td>\n",
              "      <td>02-02-2002</td>\n",
              "    </tr>\n",
              "    <tr>\n",
              "      <th>694</th>\n",
              "      <td>Inside a school for suicide bombers</td>\n",
              "      <td>Sharmeen Obaid-Chinoy</td>\n",
              "      <td>1057238</td>\n",
              "      <td>1502</td>\n",
              "      <td>0.001421</td>\n",
              "      <td>10-02-2010</td>\n",
              "    </tr>\n",
              "    <tr>\n",
              "      <th>954</th>\n",
              "      <td>Taking imagination seriously</td>\n",
              "      <td>Janet Echelman</td>\n",
              "      <td>1832930</td>\n",
              "      <td>2492</td>\n",
              "      <td>0.001360</td>\n",
              "      <td>03-03-2011</td>\n",
              "    </tr>\n",
              "    <tr>\n",
              "      <th>840</th>\n",
              "      <td>On reading the Koran</td>\n",
              "      <td>Lesley Hazleton</td>\n",
              "      <td>1847256</td>\n",
              "      <td>2374</td>\n",
              "      <td>0.001285</td>\n",
              "      <td>10-10-2010</td>\n",
              "    </tr>\n",
              "    <tr>\n",
              "      <th>876</th>\n",
              "      <td>Curating humanity's heritage</td>\n",
              "      <td>Elizabeth Lindsey</td>\n",
              "      <td>439180</td>\n",
              "      <td>555</td>\n",
              "      <td>0.001264</td>\n",
              "      <td>08-12-2010</td>\n",
              "    </tr>\n",
              "    <tr>\n",
              "      <th>1787</th>\n",
              "      <td>How do you explain consciousness?</td>\n",
              "      <td>David Chalmers</td>\n",
              "      <td>2162764</td>\n",
              "      <td>2673</td>\n",
              "      <td>0.001236</td>\n",
              "      <td>18-03-2014</td>\n",
              "    </tr>\n",
              "    <tr>\n",
              "      <th>661</th>\n",
              "      <td>The danger of science denial</td>\n",
              "      <td>Michael Specter</td>\n",
              "      <td>1838628</td>\n",
              "      <td>2272</td>\n",
              "      <td>0.001236</td>\n",
              "      <td>11-02-2010</td>\n",
              "    </tr>\n",
              "    <tr>\n",
              "      <th>561</th>\n",
              "      <td>Dance to change the world</td>\n",
              "      <td>Mallika Sarabhai</td>\n",
              "      <td>481834</td>\n",
              "      <td>595</td>\n",
              "      <td>0.001235</td>\n",
              "      <td>04-11-2009</td>\n",
              "    </tr>\n",
              "  </tbody>\n",
              "</table>\n",
              "</div>"
            ],
            "text/plain": [
              "                                    title           main_speaker    views  \\\n",
              "744        The case for same-sex marriage        Diane J. Savino   292395   \n",
              "803                E-voting without fraud          David Bismark   543551   \n",
              "96                       Militant atheism        Richard Dawkins  4374792   \n",
              "694   Inside a school for suicide bombers  Sharmeen Obaid-Chinoy  1057238   \n",
              "954          Taking imagination seriously         Janet Echelman  1832930   \n",
              "840                  On reading the Koran        Lesley Hazleton  1847256   \n",
              "876          Curating humanity's heritage      Elizabeth Lindsey   439180   \n",
              "1787    How do you explain consciousness?         David Chalmers  2162764   \n",
              "661          The danger of science denial        Michael Specter  1838628   \n",
              "561             Dance to change the world       Mallika Sarabhai   481834   \n",
              "\n",
              "      comments   dis_quo   film_date  \n",
              "744        649  0.002220  02-12-2009  \n",
              "803        834  0.001534  14-07-2010  \n",
              "96        6404  0.001464  02-02-2002  \n",
              "694       1502  0.001421  10-02-2010  \n",
              "954       2492  0.001360  03-03-2011  \n",
              "840       2374  0.001285  10-10-2010  \n",
              "876        555  0.001264  08-12-2010  \n",
              "1787      2673  0.001236  18-03-2014  \n",
              "661       2272  0.001236  11-02-2010  \n",
              "561        595  0.001235  04-11-2009  "
            ]
          },
          "metadata": {
            "tags": []
          },
          "execution_count": 21
        }
      ]
    },
    {
      "cell_type": "markdown",
      "metadata": {
        "id": "w51tqvv8-VrA"
      },
      "source": [
        "# **Who are the top speakers?**"
      ]
    },
    {
      "cell_type": "code",
      "metadata": {
        "id": "ly3IFvWR9nQV"
      },
      "source": [
        "top_speakers = df.main_speaker.value_counts()[:10]\n"
      ],
      "execution_count": 22,
      "outputs": []
    },
    {
      "cell_type": "code",
      "metadata": {
        "colab": {
          "base_uri": "https://localhost:8080/",
          "height": 516
        },
        "id": "R9caHXYm-tl7",
        "outputId": "fd9cac63-2385-4ced-adb0-4b5d19006bb2"
      },
      "source": [
        "plt.figure(figsize=(15,6))\n",
        "\n",
        "plt.bar(top_speakers.index,height=top_speakers)\n",
        "\n",
        "plt.xticks(rotation=45)"
      ],
      "execution_count": 23,
      "outputs": [
        {
          "output_type": "execute_result",
          "data": {
            "text/plain": [
              "([0, 1, 2, 3, 4, 5, 6, 7, 8, 9], <a list of 10 Text major ticklabel objects>)"
            ]
          },
          "metadata": {
            "tags": []
          },
          "execution_count": 23
        },
        {
          "output_type": "display_data",
          "data": {
            "image/png": "[encoded data removed]",
            "text/plain": [
              "<Figure size 1080x432 with 1 Axes>"
            ]
          },
          "metadata": {
            "tags": []
          }
        }
      ]
    },
    {
      "cell_type": "markdown",
      "metadata": {
        "id": "4MfBLxtwAtax"
      },
      "source": [
        "# **observations**"
      ]
    },
    {
      "cell_type": "markdown",
      "metadata": {
        "id": "GT1_heQFA4t0"
      },
      "source": [
        "# Hans Rosling, the Swiss Health Professor is clearly the most popular TED Speaker, with more than 9 appearances on the TED Forum. Juan Enriquez comes a close second with 7 appearances. Rives and Marco Tempest have graced the TED platform 6 times.\n"
      ]
    },
    {
      "cell_type": "markdown",
      "metadata": {
        "id": "tBui1Fo1CPwK"
      },
      "source": [
        "# **Which occupation should you choose if you want to become a TED Speaker? Let us have a look what kind of people TED is most interested in inviting to its events.**"
      ]
    },
    {
      "cell_type": "code",
      "metadata": {
        "colab": {
          "base_uri": "https://localhost:8080/",
          "height": 721
        },
        "id": "dj6S-a0HAicc",
        "outputId": "b253e0bc-a85b-4b04-a4d7-603f7d1f156c"
      },
      "source": [
        "plt.figure(figsize=(15,10))\n",
        "\n",
        "explode = (0.1, 0.0, 0.0, 0,0)\n",
        "\n",
        "df['speaker_occupation'].value_counts()[:5].plot(kind='pie',explode=explode, autopct='%1.0f%%', labeldistance=1.05)\n",
        "\n",
        "plt.tight_layout()"
      ],
      "execution_count": 24,
      "outputs": [
        {
          "output_type": "display_data",
          "data": {
            "image/png": "[encoded data removed]",
            "text/plain": [
              "<Figure size 1080x720 with 1 Axes>"
            ]
          },
          "metadata": {
            "tags": []
          }
        }
      ]
    },
    {
      "cell_type": "markdown",
      "metadata": {
        "id": "UnCrTfllCykr"
      },
      "source": [
        "# **Observations**"
      ]
    },
    {
      "cell_type": "markdown",
      "metadata": {
        "id": "lLgAxR2EC7dy"
      },
      "source": [
        "# Writers are the most popular with more than 45 speakers identifying themselves as the aforementioned.\n"
      ]
    },
    {
      "cell_type": "markdown",
      "metadata": {
        "id": "2uhnJo_6DATQ"
      },
      "source": [
        "# Artists and Designers come a distant second with around 35 speakers in each category.\n"
      ]
    },
    {
      "cell_type": "markdown",
      "metadata": {
        "id": "Yy7s5sWUD2I2"
      },
      "source": [
        "# This result must be taken with a pinch of salt as a considerable number of speakers identify themselves with multiple professions (for example, writer/entrepreneur).\n"
      ]
    },
    {
      "cell_type": "markdown",
      "metadata": {
        "id": "VktuAdp7EDCV"
      },
      "source": [
        "# **some professions tend to attract a larger number of viewers?**"
      ]
    },
    {
      "cell_type": "markdown",
      "metadata": {
        "id": "kzfsRymMEJi2"
      },
      "source": [
        "# To answer this question let us visualise the relationship between the top 10 most popular professions and the views thet garnered in the form of a box plot.\n",
        "\n"
      ]
    },
    {
      "cell_type": "markdown",
      "metadata": {
        "id": "HGyL00xjEu7p"
      },
      "source": [
        "# Finding out the top 10 occupation\n"
      ]
    },
    {
      "cell_type": "code",
      "metadata": {
        "id": "5Z9wgEiZCcXc"
      },
      "source": [
        "top_10_occupation_list = df['speaker_occupation'].value_counts()[:10].index.to_list()\n",
        "top_10_occupation = df[df.speaker_occupation.isin(top_10_occupation_list)]\n"
      ],
      "execution_count": 25,
      "outputs": []
    },
    {
      "cell_type": "code",
      "metadata": {
        "colab": {
          "base_uri": "https://localhost:8080/",
          "height": 551
        },
        "id": "wjLwOd2yE5Ro",
        "outputId": "f22e9584-1d9f-44ab-c0f2-cdde316619c4"
      },
      "source": [
        "fig, ax = plt.subplots(nrows=1, ncols=1,figsize=(15, 8))\n",
        "sns.boxplot(x='speaker_occupation', y='views', data=top_10_occupation, palette=\"muted\", ax =ax)\n",
        "ax.set_ylim([0, 0.4e7])\n",
        "plt.show()"
      ],
      "execution_count": 26,
      "outputs": [
        {
          "output_type": "display_data",
          "data": {
            "image/png": "[encoded data removed]",
            "text/plain": [
              "<Figure size 1080x576 with 1 Axes>"
            ]
          },
          "metadata": {
            "tags": []
          }
        }
      ]
    },
    {
      "cell_type": "markdown",
      "metadata": {
        "id": "OtC0O5lVGJid"
      },
      "source": [
        "# **observations**"
      ]
    },
    {
      "cell_type": "markdown",
      "metadata": {
        "id": "5H_kEgQVGPe-"
      },
      "source": [
        "# On average, out of the top 10 most popular professions, Psychologists tend to garner the most views. Writers have the greatest range of views between the first and the third quartile.\n"
      ]
    },
    {
      "cell_type": "markdown",
      "metadata": {
        "id": "d_VFcutmOKnW"
      },
      "source": [
        "# **Convert the duration column in minutes**"
      ]
    },
    {
      "cell_type": "code",
      "metadata": {
        "colab": {
          "base_uri": "https://localhost:8080/",
          "height": 598
        },
        "id": "AF1zqhOVFFDk",
        "outputId": "0fba100c-f8c9-4713-ca80-9a35476e864e"
      },
      "source": [
        "df['duration'] = df['duration']/60\n",
        "df.head()"
      ],
      "execution_count": 40,
      "outputs": [
        {
          "output_type": "execute_result",
          "data": {
            "text/html": [
              "<div>\n",
              "<style scoped>\n",
              "    .dataframe tbody tr th:only-of-type {\n",
              "        vertical-align: middle;\n",
              "    }\n",
              "\n",
              "    .dataframe tbody tr th {\n",
              "        vertical-align: top;\n",
              "    }\n",
              "\n",
              "    .dataframe thead th {\n",
              "        text-align: right;\n",
              "    }\n",
              "</style>\n",
              "<table border=\"1\" class=\"dataframe\">\n",
              "  <thead>\n",
              "    <tr style=\"text-align: right;\">\n",
              "      <th></th>\n",
              "      <th>name</th>\n",
              "      <th>title</th>\n",
              "      <th>description</th>\n",
              "      <th>main_speaker</th>\n",
              "      <th>speaker_occupation</th>\n",
              "      <th>num_speaker</th>\n",
              "      <th>duration</th>\n",
              "      <th>event</th>\n",
              "      <th>film_date</th>\n",
              "      <th>published_date</th>\n",
              "      <th>comments</th>\n",
              "      <th>tags</th>\n",
              "      <th>languages</th>\n",
              "      <th>ratings</th>\n",
              "      <th>related_talks</th>\n",
              "      <th>url</th>\n",
              "      <th>views</th>\n",
              "    </tr>\n",
              "  </thead>\n",
              "  <tbody>\n",
              "    <tr>\n",
              "      <th>0</th>\n",
              "      <td>Ken Robinson: Do schools kill creativity?</td>\n",
              "      <td>Do schools kill creativity?</td>\n",
              "      <td>Sir Ken Robinson makes an entertaining and pro...</td>\n",
              "      <td>Ken Robinson</td>\n",
              "      <td>Author/educator</td>\n",
              "      <td>1</td>\n",
              "      <td>19.400000</td>\n",
              "      <td>TED2006</td>\n",
              "      <td>25-02-2006</td>\n",
              "      <td>27-06-2006</td>\n",
              "      <td>4553</td>\n",
              "      <td>['children', 'creativity', 'culture', 'dance',...</td>\n",
              "      <td>60</td>\n",
              "      <td>[{'id': 7, 'name': 'Funny', 'count': 19645}, {...</td>\n",
              "      <td>[{'id': 865, 'hero': 'https://pe.tedcdn.com/im...</td>\n",
              "      <td>https://www.ted.com/talks/ken_robinson_says_sc...</td>\n",
              "      <td>47227110</td>\n",
              "    </tr>\n",
              "    <tr>\n",
              "      <th>1</th>\n",
              "      <td>Al Gore: Averting the climate crisis</td>\n",
              "      <td>Averting the climate crisis</td>\n",
              "      <td>With the same humor and humanity he exuded in ...</td>\n",
              "      <td>Al Gore</td>\n",
              "      <td>Climate advocate</td>\n",
              "      <td>1</td>\n",
              "      <td>16.283333</td>\n",
              "      <td>TED2006</td>\n",
              "      <td>25-02-2006</td>\n",
              "      <td>27-06-2006</td>\n",
              "      <td>265</td>\n",
              "      <td>['alternative energy', 'cars', 'climate change...</td>\n",
              "      <td>43</td>\n",
              "      <td>[{'id': 7, 'name': 'Funny', 'count': 544}, {'i...</td>\n",
              "      <td>[{'id': 243, 'hero': 'https://pe.tedcdn.com/im...</td>\n",
              "      <td>https://www.ted.com/talks/al_gore_on_averting_...</td>\n",
              "      <td>3200520</td>\n",
              "    </tr>\n",
              "    <tr>\n",
              "      <th>2</th>\n",
              "      <td>David Pogue: Simplicity sells</td>\n",
              "      <td>Simplicity sells</td>\n",
              "      <td>New York Times columnist David Pogue takes aim...</td>\n",
              "      <td>David Pogue</td>\n",
              "      <td>Technology columnist</td>\n",
              "      <td>1</td>\n",
              "      <td>21.433333</td>\n",
              "      <td>TED2006</td>\n",
              "      <td>24-02-2006</td>\n",
              "      <td>27-06-2006</td>\n",
              "      <td>124</td>\n",
              "      <td>['computers', 'entertainment', 'interface desi...</td>\n",
              "      <td>26</td>\n",
              "      <td>[{'id': 7, 'name': 'Funny', 'count': 964}, {'i...</td>\n",
              "      <td>[{'id': 1725, 'hero': 'https://pe.tedcdn.com/i...</td>\n",
              "      <td>https://www.ted.com/talks/david_pogue_says_sim...</td>\n",
              "      <td>1636292</td>\n",
              "    </tr>\n",
              "    <tr>\n",
              "      <th>3</th>\n",
              "      <td>Majora Carter: Greening the ghetto</td>\n",
              "      <td>Greening the ghetto</td>\n",
              "      <td>In an emotionally charged talk, MacArthur-winn...</td>\n",
              "      <td>Majora Carter</td>\n",
              "      <td>Activist for environmental justice</td>\n",
              "      <td>1</td>\n",
              "      <td>18.600000</td>\n",
              "      <td>TED2006</td>\n",
              "      <td>26-02-2006</td>\n",
              "      <td>27-06-2006</td>\n",
              "      <td>200</td>\n",
              "      <td>['MacArthur grant', 'activism', 'business', 'c...</td>\n",
              "      <td>35</td>\n",
              "      <td>[{'id': 3, 'name': 'Courageous', 'count': 760}...</td>\n",
              "      <td>[{'id': 1041, 'hero': 'https://pe.tedcdn.com/i...</td>\n",
              "      <td>https://www.ted.com/talks/majora_carter_s_tale...</td>\n",
              "      <td>1697550</td>\n",
              "    </tr>\n",
              "    <tr>\n",
              "      <th>4</th>\n",
              "      <td>Hans Rosling: The best stats you've ever seen</td>\n",
              "      <td>The best stats you've ever seen</td>\n",
              "      <td>You've never seen data presented like this. Wi...</td>\n",
              "      <td>Hans Rosling</td>\n",
              "      <td>Global health expert; data visionary</td>\n",
              "      <td>1</td>\n",
              "      <td>19.833333</td>\n",
              "      <td>TED2006</td>\n",
              "      <td>22-02-2006</td>\n",
              "      <td>28-06-2006</td>\n",
              "      <td>593</td>\n",
              "      <td>['Africa', 'Asia', 'Google', 'demo', 'economic...</td>\n",
              "      <td>48</td>\n",
              "      <td>[{'id': 9, 'name': 'Ingenious', 'count': 3202}...</td>\n",
              "      <td>[{'id': 2056, 'hero': 'https://pe.tedcdn.com/i...</td>\n",
              "      <td>https://www.ted.com/talks/hans_rosling_shows_t...</td>\n",
              "      <td>12005869</td>\n",
              "    </tr>\n",
              "  </tbody>\n",
              "</table>\n",
              "</div>"
            ],
            "text/plain": [
              "                                            name  \\\n",
              "0      Ken Robinson: Do schools kill creativity?   \n",
              "1           Al Gore: Averting the climate crisis   \n",
              "2                  David Pogue: Simplicity sells   \n",
              "3             Majora Carter: Greening the ghetto   \n",
              "4  Hans Rosling: The best stats you've ever seen   \n",
              "\n",
              "                             title  \\\n",
              "0      Do schools kill creativity?   \n",
              "1      Averting the climate crisis   \n",
              "2                 Simplicity sells   \n",
              "3              Greening the ghetto   \n",
              "4  The best stats you've ever seen   \n",
              "\n",
              "                                         description   main_speaker  \\\n",
              "0  Sir Ken Robinson makes an entertaining and pro...   Ken Robinson   \n",
              "1  With the same humor and humanity he exuded in ...        Al Gore   \n",
              "2  New York Times columnist David Pogue takes aim...    David Pogue   \n",
              "3  In an emotionally charged talk, MacArthur-winn...  Majora Carter   \n",
              "4  You've never seen data presented like this. Wi...   Hans Rosling   \n",
              "\n",
              "                     speaker_occupation  num_speaker   duration    event  \\\n",
              "0                       Author/educator            1  19.400000  TED2006   \n",
              "1                      Climate advocate            1  16.283333  TED2006   \n",
              "2                  Technology columnist            1  21.433333  TED2006   \n",
              "3    Activist for environmental justice            1  18.600000  TED2006   \n",
              "4  Global health expert; data visionary            1  19.833333  TED2006   \n",
              "\n",
              "    film_date published_date  comments  \\\n",
              "0  25-02-2006     27-06-2006      4553   \n",
              "1  25-02-2006     27-06-2006       265   \n",
              "2  24-02-2006     27-06-2006       124   \n",
              "3  26-02-2006     27-06-2006       200   \n",
              "4  22-02-2006     28-06-2006       593   \n",
              "\n",
              "                                                tags  languages  \\\n",
              "0  ['children', 'creativity', 'culture', 'dance',...         60   \n",
              "1  ['alternative energy', 'cars', 'climate change...         43   \n",
              "2  ['computers', 'entertainment', 'interface desi...         26   \n",
              "3  ['MacArthur grant', 'activism', 'business', 'c...         35   \n",
              "4  ['Africa', 'Asia', 'Google', 'demo', 'economic...         48   \n",
              "\n",
              "                                             ratings  \\\n",
              "0  [{'id': 7, 'name': 'Funny', 'count': 19645}, {...   \n",
              "1  [{'id': 7, 'name': 'Funny', 'count': 544}, {'i...   \n",
              "2  [{'id': 7, 'name': 'Funny', 'count': 964}, {'i...   \n",
              "3  [{'id': 3, 'name': 'Courageous', 'count': 760}...   \n",
              "4  [{'id': 9, 'name': 'Ingenious', 'count': 3202}...   \n",
              "\n",
              "                                       related_talks  \\\n",
              "0  [{'id': 865, 'hero': 'https://pe.tedcdn.com/im...   \n",
              "1  [{'id': 243, 'hero': 'https://pe.tedcdn.com/im...   \n",
              "2  [{'id': 1725, 'hero': 'https://pe.tedcdn.com/i...   \n",
              "3  [{'id': 1041, 'hero': 'https://pe.tedcdn.com/i...   \n",
              "4  [{'id': 2056, 'hero': 'https://pe.tedcdn.com/i...   \n",
              "\n",
              "                                                 url     views  \n",
              "0  https://www.ted.com/talks/ken_robinson_says_sc...  47227110  \n",
              "1  https://www.ted.com/talks/al_gore_on_averting_...   3200520  \n",
              "2  https://www.ted.com/talks/david_pogue_says_sim...   1636292  \n",
              "3  https://www.ted.com/talks/majora_carter_s_tale...   1697550  \n",
              "4  https://www.ted.com/talks/hans_rosling_shows_t...  12005869  "
            ]
          },
          "metadata": {
            "tags": []
          },
          "execution_count": 40
        }
      ]
    },
    {
      "cell_type": "markdown",
      "metadata": {
        "id": "6OR6rkTNOyi1"
      },
      "source": [
        "# **find the details of the longest and shortest Ted talks in terms of duration.**"
      ]
    },
    {
      "cell_type": "markdown",
      "metadata": {
        "id": "NaRJIl_vSBmG"
      },
      "source": [
        "# TED is famous for imposing a very strict time limit of 18 minutes. Although this is the suggested limit, there have been talks as short as 2 minutes and some have stretched to as long as 24 minutes. Let us get an idea of the distribution of TED Talk durations."
      ]
    },
    {
      "cell_type": "code",
      "metadata": {
        "colab": {
          "base_uri": "https://localhost:8080/"
        },
        "id": "ciNFuwQkOV-U",
        "outputId": "f4e6bf73-982b-4db4-9fb8-ee7940cd93e6"
      },
      "source": [
        "df['duration'].describe()"
      ],
      "execution_count": 41,
      "outputs": [
        {
          "output_type": "execute_result",
          "data": {
            "text/plain": [
              "count    2550.000000\n",
              "mean       13.775170\n",
              "std         6.233486\n",
              "min         2.250000\n",
              "25%         9.616667\n",
              "50%        14.133333\n",
              "75%        17.445833\n",
              "max        87.600000\n",
              "Name: duration, dtype: float64"
            ]
          },
          "metadata": {
            "tags": []
          },
          "execution_count": 41
        }
      ]
    },
    {
      "cell_type": "markdown",
      "metadata": {
        "id": "PVhaW-uuRIR4"
      },
      "source": [
        "# **observations:**"
      ]
    },
    {
      "cell_type": "markdown",
      "metadata": {
        "id": "aj7qzhZFRNLf"
      },
      "source": [
        "# TED Talks, on average are 13.7 minutes long."
      ]
    },
    {
      "cell_type": "markdown",
      "metadata": {
        "id": "mmwXaC1XRjKW"
      },
      "source": [
        "#  find this statistic surprising because TED Talks are often synonymous with 18 minutes and the average is a good 3 minutes shorter than that."
      ]
    },
    {
      "cell_type": "markdown",
      "metadata": {
        "id": "e4o5XU-YRyi6"
      },
      "source": [
        "# The shortest TED Talk on record is 2.25 minutes long"
      ]
    },
    {
      "cell_type": "markdown",
      "metadata": {
        "id": "AAxX5CmqR3sL"
      },
      "source": [
        "# the longest talk is 87.6 minutes long"
      ]
    },
    {
      "cell_type": "markdown",
      "metadata": {
        "id": "g7--FowESRgA"
      },
      "source": [
        "# **Let us look at the shortest talk.**"
      ]
    },
    {
      "cell_type": "code",
      "metadata": {
        "colab": {
          "base_uri": "https://localhost:8080/",
          "height": 202
        },
        "id": "-LStrSF9O44P",
        "outputId": "1491be1e-2549-45e8-c92b-78f0b207a19b"
      },
      "source": [
        "df[df['duration'] == 2.25]"
      ],
      "execution_count": 42,
      "outputs": [
        {
          "output_type": "execute_result",
          "data": {
            "text/html": [
              "<div>\n",
              "<style scoped>\n",
              "    .dataframe tbody tr th:only-of-type {\n",
              "        vertical-align: middle;\n",
              "    }\n",
              "\n",
              "    .dataframe tbody tr th {\n",
              "        vertical-align: top;\n",
              "    }\n",
              "\n",
              "    .dataframe thead th {\n",
              "        text-align: right;\n",
              "    }\n",
              "</style>\n",
              "<table border=\"1\" class=\"dataframe\">\n",
              "  <thead>\n",
              "    <tr style=\"text-align: right;\">\n",
              "      <th></th>\n",
              "      <th>name</th>\n",
              "      <th>title</th>\n",
              "      <th>description</th>\n",
              "      <th>main_speaker</th>\n",
              "      <th>speaker_occupation</th>\n",
              "      <th>num_speaker</th>\n",
              "      <th>duration</th>\n",
              "      <th>event</th>\n",
              "      <th>film_date</th>\n",
              "      <th>published_date</th>\n",
              "      <th>comments</th>\n",
              "      <th>tags</th>\n",
              "      <th>languages</th>\n",
              "      <th>ratings</th>\n",
              "      <th>related_talks</th>\n",
              "      <th>url</th>\n",
              "      <th>views</th>\n",
              "    </tr>\n",
              "  </thead>\n",
              "  <tbody>\n",
              "    <tr>\n",
              "      <th>239</th>\n",
              "      <td>Murray Gell-Mann: The ancestor of language</td>\n",
              "      <td>The ancestor of language</td>\n",
              "      <td>After speaking at TED2007 on elegance in physi...</td>\n",
              "      <td>Murray Gell-Mann</td>\n",
              "      <td>Physicist</td>\n",
              "      <td>1</td>\n",
              "      <td>2.25</td>\n",
              "      <td>TED2007</td>\n",
              "      <td>03-03-2007</td>\n",
              "      <td>11-06-2008</td>\n",
              "      <td>76</td>\n",
              "      <td>['culture', 'global issues', 'history', 'langu...</td>\n",
              "      <td>61</td>\n",
              "      <td>[{'id': 22, 'name': 'Fascinating', 'count': 78...</td>\n",
              "      <td>[{'id': 161, 'hero': 'https://pe.tedcdn.com/im...</td>\n",
              "      <td>https://www.ted.com/talks/murray_gell_mann_on_...</td>\n",
              "      <td>785293</td>\n",
              "    </tr>\n",
              "  </tbody>\n",
              "</table>\n",
              "</div>"
            ],
            "text/plain": [
              "                                           name                     title  \\\n",
              "239  Murray Gell-Mann: The ancestor of language  The ancestor of language   \n",
              "\n",
              "                                           description      main_speaker  \\\n",
              "239  After speaking at TED2007 on elegance in physi...  Murray Gell-Mann   \n",
              "\n",
              "    speaker_occupation  num_speaker  duration    event   film_date  \\\n",
              "239          Physicist            1      2.25  TED2007  03-03-2007   \n",
              "\n",
              "    published_date  comments  \\\n",
              "239     11-06-2008        76   \n",
              "\n",
              "                                                  tags  languages  \\\n",
              "239  ['culture', 'global issues', 'history', 'langu...         61   \n",
              "\n",
              "                                               ratings  \\\n",
              "239  [{'id': 22, 'name': 'Fascinating', 'count': 78...   \n",
              "\n",
              "                                         related_talks  \\\n",
              "239  [{'id': 161, 'hero': 'https://pe.tedcdn.com/im...   \n",
              "\n",
              "                                                   url   views  \n",
              "239  https://www.ted.com/talks/murray_gell_mann_on_...  785293  "
            ]
          },
          "metadata": {
            "tags": []
          },
          "execution_count": 42
        }
      ]
    },
    {
      "cell_type": "markdown",
      "metadata": {
        "id": "CsOl79DmSm4E"
      },
      "source": [
        "# **Let us look at the longest talk.**"
      ]
    },
    {
      "cell_type": "code",
      "metadata": {
        "colab": {
          "base_uri": "https://localhost:8080/",
          "height": 202
        },
        "id": "FuZStJZbSe_n",
        "outputId": "10e08e38-6f52-49bd-9565-d1df455ab438"
      },
      "source": [
        "df[df['duration'] == 87.6]"
      ],
      "execution_count": 43,
      "outputs": [
        {
          "output_type": "execute_result",
          "data": {
            "text/html": [
              "<div>\n",
              "<style scoped>\n",
              "    .dataframe tbody tr th:only-of-type {\n",
              "        vertical-align: middle;\n",
              "    }\n",
              "\n",
              "    .dataframe tbody tr th {\n",
              "        vertical-align: top;\n",
              "    }\n",
              "\n",
              "    .dataframe thead th {\n",
              "        text-align: right;\n",
              "    }\n",
              "</style>\n",
              "<table border=\"1\" class=\"dataframe\">\n",
              "  <thead>\n",
              "    <tr style=\"text-align: right;\">\n",
              "      <th></th>\n",
              "      <th>name</th>\n",
              "      <th>title</th>\n",
              "      <th>description</th>\n",
              "      <th>main_speaker</th>\n",
              "      <th>speaker_occupation</th>\n",
              "      <th>num_speaker</th>\n",
              "      <th>duration</th>\n",
              "      <th>event</th>\n",
              "      <th>film_date</th>\n",
              "      <th>published_date</th>\n",
              "      <th>comments</th>\n",
              "      <th>tags</th>\n",
              "      <th>languages</th>\n",
              "      <th>ratings</th>\n",
              "      <th>related_talks</th>\n",
              "      <th>url</th>\n",
              "      <th>views</th>\n",
              "    </tr>\n",
              "  </thead>\n",
              "  <tbody>\n",
              "    <tr>\n",
              "      <th>640</th>\n",
              "      <td>Douglas Adams: Parrots, the universe and every...</td>\n",
              "      <td>Parrots, the universe and everything</td>\n",
              "      <td>Blind river dolphins, reclusive lemurs, a parr...</td>\n",
              "      <td>Douglas Adams</td>\n",
              "      <td>Author, satirist</td>\n",
              "      <td>1</td>\n",
              "      <td>87.6</td>\n",
              "      <td>University of California</td>\n",
              "      <td>16-05-2001</td>\n",
              "      <td>16-03-2010</td>\n",
              "      <td>101</td>\n",
              "      <td>['biodiversity', 'biology', 'comedy', 'humor',...</td>\n",
              "      <td>0</td>\n",
              "      <td>[{'id': 22, 'name': 'Fascinating', 'count': 29...</td>\n",
              "      <td>[{'id': 635, 'hero': 'https://pe.tedcdn.com/im...</td>\n",
              "      <td>https://www.ted.com/talks/douglas_adams_parrot...</td>\n",
              "      <td>473220</td>\n",
              "    </tr>\n",
              "  </tbody>\n",
              "</table>\n",
              "</div>"
            ],
            "text/plain": [
              "                                                  name  \\\n",
              "640  Douglas Adams: Parrots, the universe and every...   \n",
              "\n",
              "                                    title  \\\n",
              "640  Parrots, the universe and everything   \n",
              "\n",
              "                                           description   main_speaker  \\\n",
              "640  Blind river dolphins, reclusive lemurs, a parr...  Douglas Adams   \n",
              "\n",
              "    speaker_occupation  num_speaker  duration                     event  \\\n",
              "640   Author, satirist            1      87.6  University of California   \n",
              "\n",
              "      film_date published_date  comments  \\\n",
              "640  16-05-2001     16-03-2010       101   \n",
              "\n",
              "                                                  tags  languages  \\\n",
              "640  ['biodiversity', 'biology', 'comedy', 'humor',...          0   \n",
              "\n",
              "                                               ratings  \\\n",
              "640  [{'id': 22, 'name': 'Fascinating', 'count': 29...   \n",
              "\n",
              "                                         related_talks  \\\n",
              "640  [{'id': 635, 'hero': 'https://pe.tedcdn.com/im...   \n",
              "\n",
              "                                                   url   views  \n",
              "640  https://www.ted.com/talks/douglas_adams_parrot...  473220  "
            ]
          },
          "metadata": {
            "tags": []
          },
          "execution_count": 43
        }
      ]
    },
    {
      "cell_type": "code",
      "metadata": {
        "id": "gleXxq4OSjnu"
      },
      "source": [
        ""
      ],
      "execution_count": null,
      "outputs": []
    }
  ]
}